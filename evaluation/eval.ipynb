{
 "cells": [
  {
   "cell_type": "markdown",
   "id": "210fb8f2",
   "metadata": {},
   "source": [
    "## 1. 공통 모듈 및 평가 함수 정의"
   ]
  },
  {
   "cell_type": "code",
   "execution_count": null,
   "id": "e0dfadd7",
   "metadata": {},
   "outputs": [
    {
     "ename": "ModuleNotFoundError",
     "evalue": "No module named 'isegm'",
     "output_type": "error",
     "traceback": [
      "\u001b[0;31m---------------------------------------------------------------------------\u001b[0m",
      "\u001b[0;31mModuleNotFoundError\u001b[0m                       Traceback (most recent call last)",
      "Cell \u001b[0;32mIn[1], line 6\u001b[0m\n\u001b[1;32m      3\u001b[0m \u001b[38;5;28;01mimport\u001b[39;00m \u001b[38;5;21;01mos\u001b[39;00m\n\u001b[1;32m      4\u001b[0m \u001b[38;5;28;01mfrom\u001b[39;00m \u001b[38;5;21;01mdatetime\u001b[39;00m \u001b[38;5;28;01mimport\u001b[39;00m datetime\n\u001b[0;32m----> 6\u001b[0m \u001b[38;5;28;01mfrom\u001b[39;00m \u001b[38;5;21;01misegm\u001b[39;00m\u001b[38;5;21;01m.\u001b[39;00m\u001b[38;5;21;01mmodel\u001b[39;00m\u001b[38;5;21;01m.\u001b[39;00m\u001b[38;5;21;01mmetrics\u001b[39;00m \u001b[38;5;28;01mimport\u001b[39;00m PerClassIoU, MultiClassIoU\n\u001b[1;32m      7\u001b[0m \u001b[38;5;28;01mfrom\u001b[39;00m \u001b[38;5;21;01mtqdm\u001b[39;00m \u001b[38;5;28;01mimport\u001b[39;00m tqdm\n\u001b[1;32m      9\u001b[0m \u001b[38;5;28;01mdef\u001b[39;00m \u001b[38;5;21mevaluate_model\u001b[39m(model, dataset, dataset_name, device, log_file):\n",
      "\u001b[0;31mModuleNotFoundError\u001b[0m: No module named 'isegm'"
     ]
    }
   ],
   "source": [
    "import torch\n",
    "from torch.utils.data import DataLoader\n",
    "import os\n",
    "from datetime import datetime\n",
    "\n",
    "from isegm.model.metrics import PerClassIoU, MultiClassIoU\n",
    "from isegm.model.is_trimap_plaintvit_model import TrimapPlainVitModel\n",
    "from tqdm import tqdm\n",
    "\n",
    "def evaluate_model(model, dataset, dataset_name, device, log_file):\n",
    "    loader = DataLoader(dataset, batch_size=1, shuffle=False)\n",
    "    \n",
    "    per_class_iou = PerClassIoU()\n",
    "    mean_iou = MultiClassIoU()\n",
    "\n",
    "    model.eval()\n",
    "    with torch.no_grad():\n",
    "        for sample in tqdm(loader, desc=f\"Evaluating {dataset_name}\"):\n",
    "            image = sample['image'].to(device)\n",
    "            trimap_label = sample['trimap'].to(device)\n",
    "\n",
    "            output = model(image)\n",
    "            per_class_iou.update(output, trimap_label)\n",
    "            mean_iou.update(output, trimap_label)\n",
    "\n",
    "    per_cls = per_class_iou.get_epoch_value()\n",
    "    mean = mean_iou.get_epoch_value()\n",
    "\n",
    "    print(f\"\\n=== {dataset_name} ===\")\n",
    "    print(\"Dataset Size:\", len(dataset))\n",
    "    print(\"Per-Class IoU:\", per_cls)\n",
    "    print(\"Mean IoU:\", mean)\n",
    "\n",
    "    with open(log_file, 'a') as f:\n",
    "        f.write(f\"Dataset: {dataset_name}\\n\")\n",
    "        f.write(f\"Samples: {len(dataset)}\\n\")\n",
    "        f.write(f\"BG IoU\\tUnknown IoU\\tFG IoU\\tMean IoU\\n\")\n",
    "        f.write(f\"{per_cls['bg']:.4f}\\t{per_cls['unknown']:.4f}\\t{per_cls['fg']:.4f}\\t{mean:.4f}\\n\")\n",
    "        f.write(f\"\\n\")\n",
    "\n",
    "    per_class_iou.reset_epoch_stats()\n",
    "    mean_iou.reset_epoch_stats()"
   ]
  },
  {
   "cell_type": "markdown",
   "id": "869594ff",
   "metadata": {},
   "source": [
    "## 모델 정의"
   ]
  },
  {
   "cell_type": "code",
   "execution_count": null,
   "id": "bbe82920",
   "metadata": {},
   "outputs": [],
   "source": [
    "def build_model(cfg):\n",
    "    backbone_params = dict(\n",
    "        img_size=(cfg.INPUT_SIZE, cfg.INPUT_SIZE),\n",
    "        patch_size=(14,14),\n",
    "        in_chans=3,\n",
    "        embed_dim=1280,\n",
    "        depth=32,\n",
    "        num_heads=16,\n",
    "        mlp_ratio=4, \n",
    "        qkv_bias=True,\n",
    "    )\n",
    "\n",
    "    neck_params = dict(\n",
    "        in_dim = 1280,\n",
    "        out_dims = [240, 480, 960, 1920],\n",
    "    )\n",
    "\n",
    "    head_params = dict(\n",
    "        in_channels=[240, 480, 960, 1920],\n",
    "        in_index=[0, 1, 2, 3],\n",
    "        dropout_ratio=0.1,\n",
    "        num_classes=3,\n",
    "        loss_decode=torch.nn.CrossEntropyLoss(),\n",
    "        align_corners=False,\n",
    "        upsample=cfg.upsample,\n",
    "        channels={'x1': 256, 'x2': 128, 'x4': 64}[cfg.upsample],\n",
    "    )\n",
    "\n",
    "    model = TrimapPlainVitModel(\n",
    "        use_disks=True,\n",
    "        norm_radius=5,\n",
    "        with_prev_mask=True,\n",
    "        backbone_params=backbone_params,\n",
    "        neck_params=neck_params,\n",
    "        head_params=head_params,\n",
    "        random_split=cfg.random_split,\n",
    "    )\n",
    "\n",
    "    model.backbone.init_weights_from_pretrained(cfg.IMAGENET_PRETRAINED_MODELS.MAE_HUGE)\n",
    "    model.to(cfg.device)\n",
    "    return model"
   ]
  },
  {
   "cell_type": "markdown",
   "id": "11944588",
   "metadata": {},
   "source": [
    "## Dataset 생성"
   ]
  },
  {
   "cell_type": "code",
   "execution_count": null,
   "id": "f3276b8e",
   "metadata": {},
   "outputs": [],
   "source": [
    "from isegm.data.datasets.composition import COMPOSITIONTrimapDataset\n",
    "from isegm.data.datasets.p3m10k import P3M10KTrimapDataset\n",
    "from isegm.data.datasets.aim500 import AIM500TrimapDataset\n",
    "from isegm.data.datasets.am200 import AM200TrimapDataset\n",
    "\n",
    "evaldataset1 = COMPOSITIONTrimapDataset('./dataset/Seg2TrimapDataset/Composition-1k-testset')\n",
    "evaldataset2 = P3M10KTrimapDataset('./dataset/2.P3M-10k/P3M-10k/validation/P3M-500-NP')\n",
    "evaldataset3 = AIM500TrimapDataset('./datasets/Seg2TrimapDataset/AIM-500') \n",
    "evaldataset4 = AM200TrimapDataset('./datasets/Seg2TrimapDataset/AM-200')"
   ]
  },
  {
   "cell_type": "code",
   "execution_count": null,
   "id": "b5ae5135",
   "metadata": {},
   "outputs": [],
   "source": [
    "## Evaluation"
   ]
  },
  {
   "cell_type": "code",
   "execution_count": null,
   "id": "1b7f5da6",
   "metadata": {},
   "outputs": [],
   "source": [
    "device = \"cpu\"\n",
    "evaluate_model(model, evaldataset1, 'Composition-1K', device)\n",
    "evaluate_model(model, evaldataset2, 'P3M-500-P', device)\n",
    "evaluate_model(model, evaldataset3, 'AIM-500', device)\n",
    "evaluate_model(model, evaldataset4, 'AM-200', device)\n"
   ]
  }
 ],
 "metadata": {
  "kernelspec": {
   "display_name": "simpleclick",
   "language": "python",
   "name": "python3"
  },
  "language_info": {
   "codemirror_mode": {
    "name": "ipython",
    "version": 3
   },
   "file_extension": ".py",
   "mimetype": "text/x-python",
   "name": "python",
   "nbconvert_exporter": "python",
   "pygments_lexer": "ipython3",
   "version": "3.8.20"
  }
 },
 "nbformat": 4,
 "nbformat_minor": 5
}
